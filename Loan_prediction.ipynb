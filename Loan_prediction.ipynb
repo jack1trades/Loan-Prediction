{
  "nbformat": 4,
  "nbformat_minor": 0,
  "metadata": {
    "colab": {
      "name": "Loan prediction.ipynb",
      "provenance": [],
      "collapsed_sections": [
        "ut8KrnIvnk5l",
        "QzA_QOO7kcSb",
        "eY3A7w9G01fi",
        "4cYRv-bG0Pbt",
        "OTghSZl26Ki_",
        "3fsec76U6SuZ",
        "KQJDj7tf-6PL",
        "ddXxeExwI618",
        "YL7GiLzp8H9Z",
        "p_DoRgcA8yi4",
        "4yJ_Mjnm_1pa",
        "PsO_08tOFs8B",
        "OcPYQFbkGPP8",
        "n1h26wtSIv_q",
        "pFb5MCG6JmAX",
        "hD27qRrkJ4us"
      ]
    },
    "kernelspec": {
      "name": "python3",
      "display_name": "Python 3"
    },
    "language_info": {
      "name": "python"
    }
  },
  "cells": [
    {
      "cell_type": "markdown",
      "metadata": {
        "id": "72qqqG8GMY87"
      },
      "source": [
        "**BANK LOAN PREDICTION**"
      ]
    },
    {
      "cell_type": "markdown",
      "metadata": {
        "id": "HqyJ3aAMLMxy"
      },
      "source": [
        "**There are a number of challenges solved by ML/DS Algorithms, in our daily life**"
      ]
    },
    {
      "cell_type": "markdown",
      "metadata": {
        "id": "7kaCFvtWLU56"
      },
      "source": [
        "**One such challenge for banking firms is- Dealing with unfit candidates for loan**"
      ]
    },
    {
      "cell_type": "markdown",
      "metadata": {
        "id": "zYPajavXLrve"
      },
      "source": [
        "**Following are a couple of scientific approaches to identify such cases, and to prevent mammoth loss of bank revenue**"
      ]
    },
    {
      "cell_type": "code",
      "metadata": {
        "id": "PWOzSZdjcvKV"
      },
      "source": [
        ""
      ],
      "execution_count": null,
      "outputs": []
    },
    {
      "cell_type": "markdown",
      "metadata": {
        "id": "ut8KrnIvnk5l"
      },
      "source": [
        "##### **Dataset**"
      ]
    },
    {
      "cell_type": "code",
      "metadata": {
        "id": "pMaYrHTjnnEU"
      },
      "source": [
        "import pandas as pd"
      ],
      "execution_count": null,
      "outputs": []
    },
    {
      "cell_type": "markdown",
      "metadata": {
        "id": "4zArDcxSj6gW"
      },
      "source": [
        "**1. Train Dataset**\n",
        "\n",
        "**The Training dataset for building the model upon**"
      ]
    },
    {
      "cell_type": "code",
      "metadata": {
        "id": "Kzbz-rOdnoiM"
      },
      "source": [
        "lp = pd.read_csv(\"Loan-prediction1.csv\")"
      ],
      "execution_count": null,
      "outputs": []
    },
    {
      "cell_type": "code",
      "metadata": {
        "colab": {
          "base_uri": "https://localhost:8080/",
          "height": 244
        },
        "id": "H6f0ycchnytC",
        "outputId": "7176f850-68ae-4acd-f9f9-d0ecef1d8976"
      },
      "source": [
        "lp.head()"
      ],
      "execution_count": null,
      "outputs": [
        {
          "output_type": "execute_result",
          "data": {
            "text/html": [
              "<div>\n",
              "<style scoped>\n",
              "    .dataframe tbody tr th:only-of-type {\n",
              "        vertical-align: middle;\n",
              "    }\n",
              "\n",
              "    .dataframe tbody tr th {\n",
              "        vertical-align: top;\n",
              "    }\n",
              "\n",
              "    .dataframe thead th {\n",
              "        text-align: right;\n",
              "    }\n",
              "</style>\n",
              "<table border=\"1\" class=\"dataframe\">\n",
              "  <thead>\n",
              "    <tr style=\"text-align: right;\">\n",
              "      <th></th>\n",
              "      <th>Loan_ID</th>\n",
              "      <th>Gender</th>\n",
              "      <th>Married</th>\n",
              "      <th>Dependents</th>\n",
              "      <th>Education</th>\n",
              "      <th>Self_Employed</th>\n",
              "      <th>ApplicantIncome</th>\n",
              "      <th>CoapplicantIncome</th>\n",
              "      <th>LoanAmount</th>\n",
              "      <th>Loan_Amount_Term</th>\n",
              "      <th>Credit_History</th>\n",
              "      <th>Property_Area</th>\n",
              "      <th>Loan_Status</th>\n",
              "    </tr>\n",
              "  </thead>\n",
              "  <tbody>\n",
              "    <tr>\n",
              "      <th>0</th>\n",
              "      <td>LP001002</td>\n",
              "      <td>Male</td>\n",
              "      <td>No</td>\n",
              "      <td>0</td>\n",
              "      <td>Graduate</td>\n",
              "      <td>No</td>\n",
              "      <td>5849</td>\n",
              "      <td>0.0</td>\n",
              "      <td>NaN</td>\n",
              "      <td>360.0</td>\n",
              "      <td>1.0</td>\n",
              "      <td>Urban</td>\n",
              "      <td>Y</td>\n",
              "    </tr>\n",
              "    <tr>\n",
              "      <th>1</th>\n",
              "      <td>LP001003</td>\n",
              "      <td>Male</td>\n",
              "      <td>Yes</td>\n",
              "      <td>1</td>\n",
              "      <td>Graduate</td>\n",
              "      <td>No</td>\n",
              "      <td>4583</td>\n",
              "      <td>1508.0</td>\n",
              "      <td>128.0</td>\n",
              "      <td>360.0</td>\n",
              "      <td>1.0</td>\n",
              "      <td>Rural</td>\n",
              "      <td>N</td>\n",
              "    </tr>\n",
              "    <tr>\n",
              "      <th>2</th>\n",
              "      <td>LP001005</td>\n",
              "      <td>Male</td>\n",
              "      <td>Yes</td>\n",
              "      <td>0</td>\n",
              "      <td>Graduate</td>\n",
              "      <td>Yes</td>\n",
              "      <td>3000</td>\n",
              "      <td>0.0</td>\n",
              "      <td>66.0</td>\n",
              "      <td>360.0</td>\n",
              "      <td>1.0</td>\n",
              "      <td>Urban</td>\n",
              "      <td>Y</td>\n",
              "    </tr>\n",
              "    <tr>\n",
              "      <th>3</th>\n",
              "      <td>LP001006</td>\n",
              "      <td>Male</td>\n",
              "      <td>Yes</td>\n",
              "      <td>0</td>\n",
              "      <td>Not Graduate</td>\n",
              "      <td>No</td>\n",
              "      <td>2583</td>\n",
              "      <td>2358.0</td>\n",
              "      <td>120.0</td>\n",
              "      <td>360.0</td>\n",
              "      <td>1.0</td>\n",
              "      <td>Urban</td>\n",
              "      <td>Y</td>\n",
              "    </tr>\n",
              "    <tr>\n",
              "      <th>4</th>\n",
              "      <td>LP001008</td>\n",
              "      <td>Male</td>\n",
              "      <td>No</td>\n",
              "      <td>0</td>\n",
              "      <td>Graduate</td>\n",
              "      <td>No</td>\n",
              "      <td>6000</td>\n",
              "      <td>0.0</td>\n",
              "      <td>141.0</td>\n",
              "      <td>360.0</td>\n",
              "      <td>1.0</td>\n",
              "      <td>Urban</td>\n",
              "      <td>Y</td>\n",
              "    </tr>\n",
              "  </tbody>\n",
              "</table>\n",
              "</div>"
            ],
            "text/plain": [
              "    Loan_ID Gender Married  ... Credit_History Property_Area Loan_Status\n",
              "0  LP001002   Male      No  ...            1.0         Urban           Y\n",
              "1  LP001003   Male     Yes  ...            1.0         Rural           N\n",
              "2  LP001005   Male     Yes  ...            1.0         Urban           Y\n",
              "3  LP001006   Male     Yes  ...            1.0         Urban           Y\n",
              "4  LP001008   Male      No  ...            1.0         Urban           Y\n",
              "\n",
              "[5 rows x 13 columns]"
            ]
          },
          "metadata": {},
          "execution_count": 3
        }
      ]
    },
    {
      "cell_type": "code",
      "metadata": {
        "colab": {
          "base_uri": "https://localhost:8080/"
        },
        "id": "9l39qMZMnzqY",
        "outputId": "5b485b22-6000-45ee-da11-fc4ce06574e3"
      },
      "source": [
        "lp.shape"
      ],
      "execution_count": null,
      "outputs": [
        {
          "output_type": "execute_result",
          "data": {
            "text/plain": [
              "(614, 13)"
            ]
          },
          "metadata": {},
          "execution_count": 4
        }
      ]
    },
    {
      "cell_type": "code",
      "metadata": {
        "colab": {
          "base_uri": "https://localhost:8080/"
        },
        "id": "rEBhlnq-n1DB",
        "outputId": "fe55f7ef-1e76-4de8-a545-5b273ec61821"
      },
      "source": [
        "lp.isnull().sum().sum()"
      ],
      "execution_count": null,
      "outputs": [
        {
          "output_type": "execute_result",
          "data": {
            "text/plain": [
              "149"
            ]
          },
          "metadata": {},
          "execution_count": 5
        }
      ]
    },
    {
      "cell_type": "code",
      "metadata": {
        "colab": {
          "base_uri": "https://localhost:8080/"
        },
        "id": "g4b2V_mKn3yh",
        "outputId": "28e01ff9-9079-497a-b669-5621141c004f"
      },
      "source": [
        "lp.info()"
      ],
      "execution_count": null,
      "outputs": [
        {
          "output_type": "stream",
          "name": "stdout",
          "text": [
            "<class 'pandas.core.frame.DataFrame'>\n",
            "RangeIndex: 614 entries, 0 to 613\n",
            "Data columns (total 13 columns):\n",
            " #   Column             Non-Null Count  Dtype  \n",
            "---  ------             --------------  -----  \n",
            " 0   Loan_ID            614 non-null    object \n",
            " 1   Gender             601 non-null    object \n",
            " 2   Married            611 non-null    object \n",
            " 3   Dependents         599 non-null    object \n",
            " 4   Education          614 non-null    object \n",
            " 5   Self_Employed      582 non-null    object \n",
            " 6   ApplicantIncome    614 non-null    int64  \n",
            " 7   CoapplicantIncome  614 non-null    float64\n",
            " 8   LoanAmount         592 non-null    float64\n",
            " 9   Loan_Amount_Term   600 non-null    float64\n",
            " 10  Credit_History     564 non-null    float64\n",
            " 11  Property_Area      614 non-null    object \n",
            " 12  Loan_Status        614 non-null    object \n",
            "dtypes: float64(4), int64(1), object(8)\n",
            "memory usage: 62.5+ KB\n"
          ]
        }
      ]
    },
    {
      "cell_type": "code",
      "metadata": {
        "colab": {
          "base_uri": "https://localhost:8080/"
        },
        "id": "M8jTKRPkohxn",
        "outputId": "d06cb4ec-9ecb-4cd3-9254-6dd494a56609"
      },
      "source": [
        "from collections import Counter\n",
        "Counter(lp[\"Loan_Status\"])"
      ],
      "execution_count": null,
      "outputs": [
        {
          "output_type": "execute_result",
          "data": {
            "text/plain": [
              "Counter({'N': 192, 'Y': 422})"
            ]
          },
          "metadata": {},
          "execution_count": 7
        }
      ]
    },
    {
      "cell_type": "markdown",
      "metadata": {
        "id": "kntQTvkljnPN"
      },
      "source": [
        "**2. Test Dataset**\n",
        "\n",
        "**The Valuation dataset for checking the quality of the model built**"
      ]
    },
    {
      "cell_type": "code",
      "metadata": {
        "id": "J-w8zUHZjLUm"
      },
      "source": [
        "pl = pd.read_csv(\"Loan-prediction2.csv\")"
      ],
      "execution_count": null,
      "outputs": []
    },
    {
      "cell_type": "code",
      "metadata": {
        "colab": {
          "base_uri": "https://localhost:8080/",
          "height": 244
        },
        "id": "rYLr5mI9jSRW",
        "outputId": "6a4cdef2-f97a-4c0a-b421-bb048e6e8235"
      },
      "source": [
        "pl.head()"
      ],
      "execution_count": null,
      "outputs": [
        {
          "output_type": "execute_result",
          "data": {
            "text/html": [
              "<div>\n",
              "<style scoped>\n",
              "    .dataframe tbody tr th:only-of-type {\n",
              "        vertical-align: middle;\n",
              "    }\n",
              "\n",
              "    .dataframe tbody tr th {\n",
              "        vertical-align: top;\n",
              "    }\n",
              "\n",
              "    .dataframe thead th {\n",
              "        text-align: right;\n",
              "    }\n",
              "</style>\n",
              "<table border=\"1\" class=\"dataframe\">\n",
              "  <thead>\n",
              "    <tr style=\"text-align: right;\">\n",
              "      <th></th>\n",
              "      <th>Loan_ID</th>\n",
              "      <th>Gender</th>\n",
              "      <th>Married</th>\n",
              "      <th>Dependents</th>\n",
              "      <th>Education</th>\n",
              "      <th>Self_Employed</th>\n",
              "      <th>ApplicantIncome</th>\n",
              "      <th>CoapplicantIncome</th>\n",
              "      <th>LoanAmount</th>\n",
              "      <th>Loan_Amount_Term</th>\n",
              "      <th>Credit_History</th>\n",
              "      <th>Property_Area</th>\n",
              "    </tr>\n",
              "  </thead>\n",
              "  <tbody>\n",
              "    <tr>\n",
              "      <th>0</th>\n",
              "      <td>LP001015</td>\n",
              "      <td>Male</td>\n",
              "      <td>Yes</td>\n",
              "      <td>0</td>\n",
              "      <td>Graduate</td>\n",
              "      <td>No</td>\n",
              "      <td>5720</td>\n",
              "      <td>0</td>\n",
              "      <td>110.0</td>\n",
              "      <td>360.0</td>\n",
              "      <td>1.0</td>\n",
              "      <td>Urban</td>\n",
              "    </tr>\n",
              "    <tr>\n",
              "      <th>1</th>\n",
              "      <td>LP001022</td>\n",
              "      <td>Male</td>\n",
              "      <td>Yes</td>\n",
              "      <td>1</td>\n",
              "      <td>Graduate</td>\n",
              "      <td>No</td>\n",
              "      <td>3076</td>\n",
              "      <td>1500</td>\n",
              "      <td>126.0</td>\n",
              "      <td>360.0</td>\n",
              "      <td>1.0</td>\n",
              "      <td>Urban</td>\n",
              "    </tr>\n",
              "    <tr>\n",
              "      <th>2</th>\n",
              "      <td>LP001031</td>\n",
              "      <td>Male</td>\n",
              "      <td>Yes</td>\n",
              "      <td>2</td>\n",
              "      <td>Graduate</td>\n",
              "      <td>No</td>\n",
              "      <td>5000</td>\n",
              "      <td>1800</td>\n",
              "      <td>208.0</td>\n",
              "      <td>360.0</td>\n",
              "      <td>1.0</td>\n",
              "      <td>Urban</td>\n",
              "    </tr>\n",
              "    <tr>\n",
              "      <th>3</th>\n",
              "      <td>LP001035</td>\n",
              "      <td>Male</td>\n",
              "      <td>Yes</td>\n",
              "      <td>2</td>\n",
              "      <td>Graduate</td>\n",
              "      <td>No</td>\n",
              "      <td>2340</td>\n",
              "      <td>2546</td>\n",
              "      <td>100.0</td>\n",
              "      <td>360.0</td>\n",
              "      <td>NaN</td>\n",
              "      <td>Urban</td>\n",
              "    </tr>\n",
              "    <tr>\n",
              "      <th>4</th>\n",
              "      <td>LP001051</td>\n",
              "      <td>Male</td>\n",
              "      <td>No</td>\n",
              "      <td>0</td>\n",
              "      <td>Not Graduate</td>\n",
              "      <td>No</td>\n",
              "      <td>3276</td>\n",
              "      <td>0</td>\n",
              "      <td>78.0</td>\n",
              "      <td>360.0</td>\n",
              "      <td>1.0</td>\n",
              "      <td>Urban</td>\n",
              "    </tr>\n",
              "  </tbody>\n",
              "</table>\n",
              "</div>"
            ],
            "text/plain": [
              "    Loan_ID Gender Married  ... Loan_Amount_Term Credit_History Property_Area\n",
              "0  LP001015   Male     Yes  ...            360.0            1.0         Urban\n",
              "1  LP001022   Male     Yes  ...            360.0            1.0         Urban\n",
              "2  LP001031   Male     Yes  ...            360.0            1.0         Urban\n",
              "3  LP001035   Male     Yes  ...            360.0            NaN         Urban\n",
              "4  LP001051   Male      No  ...            360.0            1.0         Urban\n",
              "\n",
              "[5 rows x 12 columns]"
            ]
          },
          "metadata": {},
          "execution_count": 9
        }
      ]
    },
    {
      "cell_type": "code",
      "metadata": {
        "colab": {
          "base_uri": "https://localhost:8080/"
        },
        "id": "ijDwfi4KjT8t",
        "outputId": "cd191e33-23e0-4980-c743-8148eaf34031"
      },
      "source": [
        "pl.shape"
      ],
      "execution_count": null,
      "outputs": [
        {
          "output_type": "execute_result",
          "data": {
            "text/plain": [
              "(367, 12)"
            ]
          },
          "metadata": {},
          "execution_count": 10
        }
      ]
    },
    {
      "cell_type": "code",
      "metadata": {
        "id": "r6-X58Gzji0f"
      },
      "source": [
        ""
      ],
      "execution_count": null,
      "outputs": []
    },
    {
      "cell_type": "markdown",
      "metadata": {
        "id": "QzA_QOO7kcSb"
      },
      "source": [
        "##### **Data Cleaning**"
      ]
    },
    {
      "cell_type": "markdown",
      "metadata": {
        "id": "yfS7swp1rHxk"
      },
      "source": [
        "1. **Imputation (Missing Values)**\n",
        "2. **LabelEncoder**"
      ]
    },
    {
      "cell_type": "code",
      "metadata": {
        "id": "vhEH7qzwPJ1T"
      },
      "source": [
        ""
      ],
      "execution_count": null,
      "outputs": []
    },
    {
      "cell_type": "code",
      "metadata": {
        "colab": {
          "base_uri": "https://localhost:8080/"
        },
        "id": "g_T6UYSQsFkK",
        "outputId": "fbab1f28-65f4-4aab-a443-67e707b27855"
      },
      "source": [
        "lp.dtypes"
      ],
      "execution_count": null,
      "outputs": [
        {
          "output_type": "execute_result",
          "data": {
            "text/plain": [
              "Loan_ID               object\n",
              "Gender                object\n",
              "Married               object\n",
              "Dependents            object\n",
              "Education             object\n",
              "Self_Employed         object\n",
              "ApplicantIncome        int64\n",
              "CoapplicantIncome    float64\n",
              "LoanAmount           float64\n",
              "Loan_Amount_Term     float64\n",
              "Credit_History       float64\n",
              "Property_Area         object\n",
              "Loan_Status           object\n",
              "dtype: object"
            ]
          },
          "metadata": {},
          "execution_count": 11
        }
      ]
    },
    {
      "cell_type": "code",
      "metadata": {
        "colab": {
          "base_uri": "https://localhost:8080/"
        },
        "id": "2s2REGKZsygc",
        "outputId": "4c5810c0-2b03-431f-eed3-a64e5d9dbd62"
      },
      "source": [
        "lp.isna().sum().sum()"
      ],
      "execution_count": null,
      "outputs": [
        {
          "output_type": "execute_result",
          "data": {
            "text/plain": [
              "149"
            ]
          },
          "metadata": {},
          "execution_count": 12
        }
      ]
    },
    {
      "cell_type": "code",
      "metadata": {
        "id": "v_0TAnXMS3X0"
      },
      "source": [
        "def df_tn(df):\n",
        "\n",
        "  # Imputation-1\n",
        "\n",
        "  categorical_columns = [\"Gender\", \"Married\", \"Dependents\", \"Education\", \"Self_Employed\", \"Property_Area\", \"Loan_Status\"]\n",
        "  for cat_col in categorical_columns:\n",
        "    df[cat_col].fillna(df[cat_col].mode()[0], inplace=True)\n",
        "\n",
        "  # Imputation-2\n",
        "\n",
        "  numerical_columns = [\"ApplicantIncome\", \"CoapplicantIncome\", \"LoanAmount\", \"Loan_Amount_Term\", \"Credit_History\"]\n",
        "  for nume_cols in numerical_columns:\n",
        "    df[nume_cols].fillna(df[nume_cols].mean(), inplace=True)\n",
        "\n",
        "  # LabelEncoder\n",
        "  \n",
        "  from sklearn.preprocessing import LabelEncoder\n",
        "  le = LabelEncoder()\n",
        "  \n",
        "  df[\"Gender\"] = le.fit_transform(df[\"Gender\"])\n",
        "  df[\"Married\"] = le.fit_transform(df.Married)\n",
        "  df[\"Dependents\"] = le.fit_transform(df.Dependents)\n",
        "  df[\"Education\"] = le.fit_transform(df.Education)\n",
        "  df[\"Self_Employed\"] = le.fit_transform(df.Self_Employed)\n",
        "  df[\"Property_Area\"] = le.fit_transform(df.Property_Area)\n",
        "  df[\"Loan_Status\"] = le.fit_transform(df.Loan_Status)\n",
        "\n",
        "  # Alphanumeric deletions ( # replacings )\n",
        "\n",
        "  del df[\"Loan_ID\"]\n",
        "  # df[\"Loan_ID\"] = list(range(1, (len(df.Gender)+1)))\n",
        "  # df.set_index([\"Loan_ID\"], inplace=True)\n",
        "  # df.reset_index(inplace=True)"
      ],
      "execution_count": null,
      "outputs": []
    },
    {
      "cell_type": "code",
      "metadata": {
        "id": "435NDabES3Uz"
      },
      "source": [
        "df_tn(lp)"
      ],
      "execution_count": null,
      "outputs": []
    },
    {
      "cell_type": "code",
      "metadata": {
        "id": "2C_j2xHQwk8l",
        "colab": {
          "base_uri": "https://localhost:8080/"
        },
        "outputId": "b4979dc2-47bf-4110-c2e2-cf33b7bb7853"
      },
      "source": [
        "lp.isna().sum().sum()"
      ],
      "execution_count": null,
      "outputs": [
        {
          "output_type": "execute_result",
          "data": {
            "text/plain": [
              "0"
            ]
          },
          "metadata": {},
          "execution_count": 15
        }
      ]
    },
    {
      "cell_type": "code",
      "metadata": {
        "colab": {
          "base_uri": "https://localhost:8080/"
        },
        "id": "l_W0RuUuTWok",
        "outputId": "c3e63ef0-3652-4ce5-d7fe-c1cf1ca5a1b4"
      },
      "source": [
        "lp.head()"
      ],
      "execution_count": null,
      "outputs": [
        {
          "output_type": "execute_result",
          "data": {
            "text/html": [
              "<div>\n",
              "<style scoped>\n",
              "    .dataframe tbody tr th:only-of-type {\n",
              "        vertical-align: middle;\n",
              "    }\n",
              "\n",
              "    .dataframe tbody tr th {\n",
              "        vertical-align: top;\n",
              "    }\n",
              "\n",
              "    .dataframe thead th {\n",
              "        text-align: right;\n",
              "    }\n",
              "</style>\n",
              "<table border=\"1\" class=\"dataframe\">\n",
              "  <thead>\n",
              "    <tr style=\"text-align: right;\">\n",
              "      <th></th>\n",
              "      <th>Gender</th>\n",
              "      <th>Married</th>\n",
              "      <th>Dependents</th>\n",
              "      <th>Education</th>\n",
              "      <th>Self_Employed</th>\n",
              "      <th>ApplicantIncome</th>\n",
              "      <th>CoapplicantIncome</th>\n",
              "      <th>LoanAmount</th>\n",
              "      <th>Loan_Amount_Term</th>\n",
              "      <th>Credit_History</th>\n",
              "      <th>Property_Area</th>\n",
              "      <th>Loan_Status</th>\n",
              "    </tr>\n",
              "  </thead>\n",
              "  <tbody>\n",
              "    <tr>\n",
              "      <th>0</th>\n",
              "      <td>1</td>\n",
              "      <td>0</td>\n",
              "      <td>0</td>\n",
              "      <td>0</td>\n",
              "      <td>0</td>\n",
              "      <td>5849</td>\n",
              "      <td>0.0</td>\n",
              "      <td>146.412162</td>\n",
              "      <td>360.0</td>\n",
              "      <td>1.0</td>\n",
              "      <td>2</td>\n",
              "      <td>1</td>\n",
              "    </tr>\n",
              "    <tr>\n",
              "      <th>1</th>\n",
              "      <td>1</td>\n",
              "      <td>1</td>\n",
              "      <td>1</td>\n",
              "      <td>0</td>\n",
              "      <td>0</td>\n",
              "      <td>4583</td>\n",
              "      <td>1508.0</td>\n",
              "      <td>128.000000</td>\n",
              "      <td>360.0</td>\n",
              "      <td>1.0</td>\n",
              "      <td>0</td>\n",
              "      <td>0</td>\n",
              "    </tr>\n",
              "    <tr>\n",
              "      <th>2</th>\n",
              "      <td>1</td>\n",
              "      <td>1</td>\n",
              "      <td>0</td>\n",
              "      <td>0</td>\n",
              "      <td>1</td>\n",
              "      <td>3000</td>\n",
              "      <td>0.0</td>\n",
              "      <td>66.000000</td>\n",
              "      <td>360.0</td>\n",
              "      <td>1.0</td>\n",
              "      <td>2</td>\n",
              "      <td>1</td>\n",
              "    </tr>\n",
              "    <tr>\n",
              "      <th>3</th>\n",
              "      <td>1</td>\n",
              "      <td>1</td>\n",
              "      <td>0</td>\n",
              "      <td>1</td>\n",
              "      <td>0</td>\n",
              "      <td>2583</td>\n",
              "      <td>2358.0</td>\n",
              "      <td>120.000000</td>\n",
              "      <td>360.0</td>\n",
              "      <td>1.0</td>\n",
              "      <td>2</td>\n",
              "      <td>1</td>\n",
              "    </tr>\n",
              "    <tr>\n",
              "      <th>4</th>\n",
              "      <td>1</td>\n",
              "      <td>0</td>\n",
              "      <td>0</td>\n",
              "      <td>0</td>\n",
              "      <td>0</td>\n",
              "      <td>6000</td>\n",
              "      <td>0.0</td>\n",
              "      <td>141.000000</td>\n",
              "      <td>360.0</td>\n",
              "      <td>1.0</td>\n",
              "      <td>2</td>\n",
              "      <td>1</td>\n",
              "    </tr>\n",
              "  </tbody>\n",
              "</table>\n",
              "</div>"
            ],
            "text/plain": [
              "   Gender  Married  Dependents  ...  Credit_History  Property_Area  Loan_Status\n",
              "0       1        0           0  ...             1.0              2            1\n",
              "1       1        1           1  ...             1.0              0            0\n",
              "2       1        1           0  ...             1.0              2            1\n",
              "3       1        1           0  ...             1.0              2            1\n",
              "4       1        0           0  ...             1.0              2            1\n",
              "\n",
              "[5 rows x 12 columns]"
            ]
          },
          "metadata": {},
          "execution_count": 16
        }
      ]
    },
    {
      "cell_type": "markdown",
      "metadata": {
        "id": "qagOnWTUTG2e"
      },
      "source": [
        "**\"lp\" is the training set**"
      ]
    },
    {
      "cell_type": "markdown",
      "metadata": {
        "id": "cWbajCaATLY9"
      },
      "source": [
        "**\"pl\" --> is the testing set**"
      ]
    },
    {
      "cell_type": "code",
      "metadata": {
        "id": "noJWrcz7W8on"
      },
      "source": [
        "def df_tt(df):\n",
        "\n",
        "  # Imputation-1\n",
        "\n",
        "  categorical_columns = [\"Gender\", \"Married\", \"Dependents\", \"Education\", \"Self_Employed\", \"Property_Area\"]\n",
        "  for cat_col in categorical_columns:\n",
        "    df[cat_col].fillna(df[cat_col].mode()[0], inplace=True)\n",
        "\n",
        "  # Imputation-2\n",
        "\n",
        "  numerical_columns = [\"ApplicantIncome\", \"CoapplicantIncome\", \"LoanAmount\", \"Loan_Amount_Term\", \"Credit_History\"]\n",
        "  for nume_cols in numerical_columns:\n",
        "    df[nume_cols].fillna(df[nume_cols].mean(), inplace=True)\n",
        "\n",
        "  # LabelEncoder\n",
        "  \n",
        "  from sklearn.preprocessing import LabelEncoder\n",
        "  le = LabelEncoder()\n",
        "  \n",
        "  df[\"Gender\"] = le.fit_transform(df[\"Gender\"])\n",
        "  df[\"Married\"] = le.fit_transform(df.Married)\n",
        "  df[\"Dependents\"] = le.fit_transform(df.Dependents)\n",
        "  df[\"Education\"] = le.fit_transform(df.Education)\n",
        "  df[\"Self_Employed\"] = le.fit_transform(df.Self_Employed)\n",
        "  df[\"Property_Area\"] = le.fit_transform(df.Property_Area)\n",
        "\n",
        "  # Alphanumeric deletions ( # replacings )\n",
        "\n",
        "  del df[\"Loan_ID\"]\n",
        "  # df[\"Loan_ID\"] = list(range(1, (len(df.Gender)+1)))\n",
        "  # df.set_index([\"Loan_ID\"], inplace=True)\n",
        "  # df.reset_index(inplace=True)"
      ],
      "execution_count": null,
      "outputs": []
    },
    {
      "cell_type": "code",
      "metadata": {
        "id": "U2mZG_96TEjW"
      },
      "source": [
        "df_tt(pl)"
      ],
      "execution_count": null,
      "outputs": []
    },
    {
      "cell_type": "code",
      "metadata": {
        "colab": {
          "base_uri": "https://localhost:8080/"
        },
        "id": "u3l_2dxyTECL",
        "outputId": "026fa1f9-b2a3-4fa9-8ea3-b65fe7ae1e40"
      },
      "source": [
        "pl.isna().sum().sum()"
      ],
      "execution_count": null,
      "outputs": [
        {
          "output_type": "execute_result",
          "data": {
            "text/plain": [
              "0"
            ]
          },
          "metadata": {},
          "execution_count": 19
        }
      ]
    },
    {
      "cell_type": "code",
      "metadata": {
        "colab": {
          "base_uri": "https://localhost:8080/"
        },
        "id": "CMlgasdgTD_S",
        "outputId": "10a858fb-f4fe-4a9e-b611-8695f0d61676"
      },
      "source": [
        "pl.head()"
      ],
      "execution_count": null,
      "outputs": [
        {
          "output_type": "execute_result",
          "data": {
            "text/html": [
              "<div>\n",
              "<style scoped>\n",
              "    .dataframe tbody tr th:only-of-type {\n",
              "        vertical-align: middle;\n",
              "    }\n",
              "\n",
              "    .dataframe tbody tr th {\n",
              "        vertical-align: top;\n",
              "    }\n",
              "\n",
              "    .dataframe thead th {\n",
              "        text-align: right;\n",
              "    }\n",
              "</style>\n",
              "<table border=\"1\" class=\"dataframe\">\n",
              "  <thead>\n",
              "    <tr style=\"text-align: right;\">\n",
              "      <th></th>\n",
              "      <th>Gender</th>\n",
              "      <th>Married</th>\n",
              "      <th>Dependents</th>\n",
              "      <th>Education</th>\n",
              "      <th>Self_Employed</th>\n",
              "      <th>ApplicantIncome</th>\n",
              "      <th>CoapplicantIncome</th>\n",
              "      <th>LoanAmount</th>\n",
              "      <th>Loan_Amount_Term</th>\n",
              "      <th>Credit_History</th>\n",
              "      <th>Property_Area</th>\n",
              "    </tr>\n",
              "  </thead>\n",
              "  <tbody>\n",
              "    <tr>\n",
              "      <th>0</th>\n",
              "      <td>1</td>\n",
              "      <td>1</td>\n",
              "      <td>0</td>\n",
              "      <td>0</td>\n",
              "      <td>0</td>\n",
              "      <td>5720</td>\n",
              "      <td>0</td>\n",
              "      <td>110.0</td>\n",
              "      <td>360.0</td>\n",
              "      <td>1.000000</td>\n",
              "      <td>2</td>\n",
              "    </tr>\n",
              "    <tr>\n",
              "      <th>1</th>\n",
              "      <td>1</td>\n",
              "      <td>1</td>\n",
              "      <td>1</td>\n",
              "      <td>0</td>\n",
              "      <td>0</td>\n",
              "      <td>3076</td>\n",
              "      <td>1500</td>\n",
              "      <td>126.0</td>\n",
              "      <td>360.0</td>\n",
              "      <td>1.000000</td>\n",
              "      <td>2</td>\n",
              "    </tr>\n",
              "    <tr>\n",
              "      <th>2</th>\n",
              "      <td>1</td>\n",
              "      <td>1</td>\n",
              "      <td>2</td>\n",
              "      <td>0</td>\n",
              "      <td>0</td>\n",
              "      <td>5000</td>\n",
              "      <td>1800</td>\n",
              "      <td>208.0</td>\n",
              "      <td>360.0</td>\n",
              "      <td>1.000000</td>\n",
              "      <td>2</td>\n",
              "    </tr>\n",
              "    <tr>\n",
              "      <th>3</th>\n",
              "      <td>1</td>\n",
              "      <td>1</td>\n",
              "      <td>2</td>\n",
              "      <td>0</td>\n",
              "      <td>0</td>\n",
              "      <td>2340</td>\n",
              "      <td>2546</td>\n",
              "      <td>100.0</td>\n",
              "      <td>360.0</td>\n",
              "      <td>0.825444</td>\n",
              "      <td>2</td>\n",
              "    </tr>\n",
              "    <tr>\n",
              "      <th>4</th>\n",
              "      <td>1</td>\n",
              "      <td>0</td>\n",
              "      <td>0</td>\n",
              "      <td>1</td>\n",
              "      <td>0</td>\n",
              "      <td>3276</td>\n",
              "      <td>0</td>\n",
              "      <td>78.0</td>\n",
              "      <td>360.0</td>\n",
              "      <td>1.000000</td>\n",
              "      <td>2</td>\n",
              "    </tr>\n",
              "  </tbody>\n",
              "</table>\n",
              "</div>"
            ],
            "text/plain": [
              "   Gender  Married  Dependents  ...  Loan_Amount_Term  Credit_History  Property_Area\n",
              "0       1        1           0  ...             360.0        1.000000              2\n",
              "1       1        1           1  ...             360.0        1.000000              2\n",
              "2       1        1           2  ...             360.0        1.000000              2\n",
              "3       1        1           2  ...             360.0        0.825444              2\n",
              "4       1        0           0  ...             360.0        1.000000              2\n",
              "\n",
              "[5 rows x 11 columns]"
            ]
          },
          "metadata": {},
          "execution_count": 20
        }
      ]
    },
    {
      "cell_type": "markdown",
      "metadata": {
        "id": "eY3A7w9G01fi"
      },
      "source": [
        "##### **The Split**"
      ]
    },
    {
      "cell_type": "code",
      "metadata": {
        "id": "OlM2rfpQ04i7"
      },
      "source": [
        "X = lp.drop(columns = [\"Loan_Status\"], axis=1)\n",
        "y = lp[\"Loan_Status\"]"
      ],
      "execution_count": null,
      "outputs": []
    },
    {
      "cell_type": "code",
      "metadata": {
        "id": "-JOcWQrM23bF"
      },
      "source": [
        "X_train = lp.drop(columns=[\"Loan_Status\"], axis=1)\n",
        "y_train = lp[\"Loan_Status\"]\n",
        "\n",
        "# X_test is the dataframe \"pl\""
      ],
      "execution_count": null,
      "outputs": []
    },
    {
      "cell_type": "markdown",
      "metadata": {
        "id": "4cYRv-bG0Pbt"
      },
      "source": [
        "##### **Linear Regression**"
      ]
    },
    {
      "cell_type": "code",
      "metadata": {
        "id": "UTD5rkeky4nK"
      },
      "source": [
        "from sklearn.linear_model import LinearRegression"
      ],
      "execution_count": null,
      "outputs": []
    },
    {
      "cell_type": "code",
      "metadata": {
        "colab": {
          "base_uri": "https://localhost:8080/"
        },
        "id": "yCGEcGzn0iNZ",
        "outputId": "869f54e9-f835-4890-f033-33aa3af3e72d"
      },
      "source": [
        "lr = LinearRegression()\n",
        "\n",
        "lr.fit(X_train, y_train)"
      ],
      "execution_count": null,
      "outputs": [
        {
          "output_type": "execute_result",
          "data": {
            "text/plain": [
              "LinearRegression()"
            ]
          },
          "metadata": {},
          "execution_count": 24
        }
      ]
    },
    {
      "cell_type": "code",
      "metadata": {
        "colab": {
          "base_uri": "https://localhost:8080/"
        },
        "id": "rhX3dNfpUmvL",
        "outputId": "ebbdd559-dc27-4ff5-fbd9-15b6f792c6e1"
      },
      "source": [
        "lr.score(X_train, y_train)"
      ],
      "execution_count": null,
      "outputs": [
        {
          "output_type": "execute_result",
          "data": {
            "text/plain": [
              "0.3098318892624502"
            ]
          },
          "metadata": {},
          "execution_count": 25
        }
      ]
    },
    {
      "cell_type": "code",
      "metadata": {
        "id": "1v_wnR2J1RVR"
      },
      "source": [
        "# Prediction\n",
        "\n",
        "y_pred = lr.predict(X_train)"
      ],
      "execution_count": null,
      "outputs": []
    },
    {
      "cell_type": "code",
      "metadata": {
        "colab": {
          "base_uri": "https://localhost:8080/"
        },
        "id": "gNHfTqBjx3SE",
        "outputId": "9c29fcf1-1b9a-499a-94f4-1d0507a92f0e"
      },
      "source": [
        "y_pred"
      ],
      "execution_count": null,
      "outputs": [
        {
          "output_type": "execute_result",
          "data": {
            "text/plain": [
              "array([ 7.70420889e-01,  8.32429390e-01,  8.88081289e-01,  7.89691677e-01,\n",
              "        7.72009179e-01,  8.04562143e-01,  8.04171839e-01,  1.26475598e-01,\n",
              "        8.55844578e-01,  7.05640128e-01,  8.89546075e-01,  8.67721101e-01,\n",
              "        7.84737822e-01,  7.18761546e-01,  9.24986382e-01,  7.75520462e-01,\n",
              "        6.24545373e-01,  9.55225316e-02,  7.79422056e-01,  8.44121369e-01,\n",
              "        1.09118318e-01,  7.74840757e-01,  6.86078580e-02,  6.33600157e-02,\n",
              "        7.15350612e-01,  8.44014163e-01,  8.36770692e-01,  8.14513701e-01,\n",
              "        7.35367830e-01,  7.68400114e-01,  7.13309199e-01,  7.87950259e-01,\n",
              "        7.53527201e-01,  8.44989975e-01,  6.82459879e-01,  8.46809436e-01,\n",
              "        1.56885578e-01,  8.57812276e-01,  6.91298228e-01,  6.85867057e-01,\n",
              "        7.86664589e-01,  7.82824719e-01,  7.73462934e-01,  8.33639684e-01,\n",
              "        8.21443005e-01,  8.05188496e-01,  9.00876124e-01,  8.69647245e-01,\n",
              "        1.49242647e-01,  7.51832349e-01,  8.04841431e-01,  7.78949277e-01,\n",
              "        7.82025692e-01,  8.79859936e-01,  1.47172281e-01,  8.62116446e-01,\n",
              "        8.49504842e-01,  8.18853264e-01,  8.44798595e-01,  7.87546662e-01,\n",
              "        8.37946977e-01,  8.92328829e-01,  4.46970516e-02,  1.30817441e-01,\n",
              "        6.98512130e-02,  7.80223224e-01, -4.70858003e-04,  8.32180863e-01,\n",
              "        8.58915660e-01,  6.45294958e-02,  8.31238446e-01,  7.92516853e-01,\n",
              "        7.77524049e-01,  1.08569056e-01,  8.37749916e-01,  7.64737660e-01,\n",
              "        7.16201321e-01,  8.50454059e-01,  1.13129440e-01,  6.74010227e-01,\n",
              "        7.81993199e-01,  8.54670894e-01,  8.69590239e-01,  6.88320621e-01,\n",
              "        9.11023183e-01,  7.31428618e-01,  6.80255017e-01,  8.42684612e-01,\n",
              "        7.55314032e-01,  8.06736165e-01,  8.28388744e-01,  8.17794629e-01,\n",
              "        8.14317702e-01,  7.60353157e-01,  7.50650013e-01,  6.58956375e-01,\n",
              "        8.50873140e-01,  8.67434462e-01,  8.18723555e-01,  8.21430873e-01,\n",
              "        8.07116141e-01,  7.17365541e-01,  8.75188143e-01,  8.19143865e-01,\n",
              "        8.56650019e-01,  8.73967543e-01,  8.49989995e-01,  6.86291874e-01,\n",
              "        1.12174008e-01,  7.95633070e-01,  7.72824831e-01,  8.50391909e-01,\n",
              "        2.55836789e-02,  7.78960003e-01,  7.62164383e-01,  8.58645285e-01,\n",
              "        8.46978156e-01,  7.61722552e-01,  8.10284032e-01,  7.62355594e-01,\n",
              "        8.04083840e-01,  8.00429426e-01, -2.16363282e-02,  8.77595706e-01,\n",
              "        7.43522684e-01,  6.59218534e-01,  8.04552472e-01,  7.22806848e-01,\n",
              "        1.45247238e-01,  6.92583743e-01,  5.19288591e-01,  7.68954474e-01,\n",
              "        7.73345561e-01,  9.10416156e-01,  7.66383930e-01,  7.53275072e-01,\n",
              "        8.73162855e-01,  8.58002577e-01,  2.53472018e-02,  7.75010850e-01,\n",
              "        8.16159388e-01,  7.64220344e-01,  7.67331792e-01,  8.38743773e-01,\n",
              "        8.90762195e-01,  8.40318785e-01,  9.24222061e-01,  8.88063671e-01,\n",
              "        7.24972185e-01,  8.50927383e-01,  3.67621662e-02,  7.98583062e-01,\n",
              "        7.46561655e-01,  7.91239935e-01,  7.94532418e-01,  7.88814467e-02,\n",
              "        7.26800178e-01,  8.65145233e-01,  7.25121550e-01,  7.70477165e-01,\n",
              "        7.92103680e-01,  8.35766769e-01,  1.39580848e-01,  8.28756588e-01,\n",
              "        9.10779088e-01,  7.99275620e-01,  8.65563993e-01,  8.09126731e-01,\n",
              "        5.07365244e-02,  8.49291351e-01,  7.70724272e-01,  7.74335550e-01,\n",
              "        8.24767365e-01,  7.89821821e-01,  7.99409716e-01,  8.26325677e-01,\n",
              "        8.40934034e-01, -4.54774065e-02,  8.64498476e-01, -1.98405285e-02,\n",
              "        8.55584907e-02,  5.98524341e-01,  8.92249357e-01,  8.49235274e-01,\n",
              "        8.81226356e-01,  8.42167841e-01,  1.56493765e-01,  7.27350600e-01,\n",
              "        7.78241974e-01,  8.49446346e-01,  7.03894566e-01,  7.55180465e-01,\n",
              "        8.03671336e-01,  7.72619380e-01,  7.45606902e-01,  8.25134675e-01,\n",
              "        6.95547448e-01,  7.11342584e-01,  7.41102668e-01,  7.91204663e-01,\n",
              "        7.85406861e-01,  4.64513742e-02,  8.38057091e-01,  8.02525177e-01,\n",
              "        8.04884257e-01,  7.18193981e-01,  8.05264760e-01,  6.77547935e-01,\n",
              "        7.91476625e-01,  7.58430398e-01,  7.58910248e-01,  1.46684615e-01,\n",
              "        8.48874207e-01,  7.93058760e-01,  8.41131178e-01,  8.06355642e-01,\n",
              "        8.20058049e-01,  8.39543575e-01,  1.70616658e-01,  7.50500884e-01,\n",
              "        1.78556669e-01,  8.52833671e-01,  7.27298923e-01,  8.39784962e-01,\n",
              "        8.58994014e-01,  8.29886720e-01,  8.08112891e-01,  8.29302872e-01,\n",
              "        8.36581842e-01,  7.25142173e-01,  8.47503654e-01,  8.84627894e-01,\n",
              "        6.60621097e-01,  7.39679452e-01,  8.40837127e-01,  8.24081639e-01,\n",
              "        7.27260982e-01,  6.81335124e-01,  7.70586173e-01,  8.69581995e-01,\n",
              "        8.07069162e-01,  8.11582517e-01,  7.45088707e-01,  8.44850628e-01,\n",
              "        7.54891837e-01,  7.56261264e-01,  8.89856100e-01,  8.34229231e-01,\n",
              "        8.31544887e-01,  8.63615764e-01,  2.62502640e-02,  7.98121473e-01,\n",
              "        6.66058865e-01,  7.10665624e-01,  5.47397170e-02,  7.39653193e-01,\n",
              "       -2.44087336e-02,  8.95443371e-01,  7.82881928e-01,  6.96624490e-01,\n",
              "        6.71558277e-01,  7.34747818e-01,  8.09332022e-01,  7.66869987e-01,\n",
              "        7.59040501e-01,  7.04804110e-01,  8.47253214e-01,  1.48790649e-01,\n",
              "        7.59806258e-01,  7.91861687e-01,  8.18828618e-01,  8.76032321e-01,\n",
              "        7.25495523e-01,  8.29311410e-01,  8.75899464e-01,  8.46710735e-01,\n",
              "        8.05076263e-01,  8.72678357e-01,  7.82000899e-01,  6.87920794e-01,\n",
              "       -2.60030000e-02,  8.53998325e-01,  9.03619063e-01,  7.95568967e-01,\n",
              "        8.50071230e-01,  7.24582203e-01,  7.74210977e-01,  8.25066455e-01,\n",
              "        7.81127645e-01,  7.31631551e-01,  8.15512542e-01,  1.55215507e-01,\n",
              "        8.64078009e-01,  6.57588262e-02,  8.12738289e-01,  8.78723086e-01,\n",
              "        8.44174877e-01,  8.94283811e-01,  7.19805621e-01,  8.51853453e-01,\n",
              "        7.99615443e-02,  7.84358319e-01,  7.61872347e-01,  8.66677365e-01,\n",
              "        7.16591821e-01,  7.05573489e-01,  7.44460619e-01,  6.95806276e-02,\n",
              "        6.60602180e-01,  6.63759399e-01,  7.88585504e-01,  6.78036982e-01,\n",
              "        7.80524980e-01,  7.64772387e-01,  8.14979957e-01,  8.23371726e-01,\n",
              "        8.67613007e-01,  7.49659130e-01,  6.73503796e-01,  8.43023593e-01,\n",
              "        8.39160860e-01,  8.69476476e-01,  7.68311462e-01,  6.20235360e-01,\n",
              "        8.16583318e-01,  2.42399274e-02,  3.24292661e-02,  8.22703770e-01,\n",
              "        8.73601967e-01,  8.08204034e-01,  7.64661433e-01,  7.65918423e-01,\n",
              "        7.88500110e-01,  8.40897415e-01,  8.68685166e-01,  8.33513680e-01,\n",
              "        8.31959875e-01,  7.92492913e-01,  2.59611650e-02,  7.93097203e-01,\n",
              "        7.64595210e-01,  7.83136774e-01,  7.95748672e-01,  8.22091083e-01,\n",
              "        8.28181226e-01,  8.24298776e-01,  3.18684587e-02,  7.98692572e-01,\n",
              "        6.68341834e-01,  7.66188096e-01,  8.34097132e-01,  6.59130349e-01,\n",
              "        8.42930238e-01,  1.56649302e-01,  8.69570504e-01,  8.15579820e-01,\n",
              "        8.14029576e-01,  8.93230335e-01,  7.78084536e-02,  8.21586692e-01,\n",
              "        7.95055055e-01,  8.02771137e-01,  8.50728497e-01,  7.46632427e-01,\n",
              "        7.41488014e-01,  6.81879886e-01,  7.53027130e-01,  3.61848790e-02,\n",
              "        8.50524330e-01,  6.85007141e-01,  8.06116554e-01,  8.59276140e-01,\n",
              "        7.18391474e-01,  7.20214040e-02,  7.83065920e-01,  8.86348143e-01,\n",
              "        8.10938444e-01,  7.44713157e-01,  7.75597041e-01,  8.81558789e-01,\n",
              "        8.33249454e-01,  6.74889674e-01,  7.86820254e-01,  7.75958936e-01,\n",
              "        8.89047558e-01,  8.01622750e-01,  6.79424505e-01,  6.45300258e-02,\n",
              "        8.46400006e-01,  8.43870233e-01,  7.44583068e-01,  8.19018722e-01,\n",
              "        7.41568292e-01,  8.10748187e-01,  8.71235129e-01,  7.46453107e-01,\n",
              "        9.66183237e-02,  8.67061602e-01,  6.70944133e-01,  5.43954558e-02,\n",
              "        1.49441785e-01,  7.04140297e-01,  5.76727862e-01,  7.34442107e-01,\n",
              "        7.46476196e-01,  7.81462388e-01,  7.90325684e-01,  7.15776972e-01,\n",
              "        1.53835815e-01,  1.41491283e-01,  7.37230757e-01,  7.53446429e-01,\n",
              "        4.62725492e-02,  7.64521250e-01,  5.78762513e-02,  8.10495471e-01,\n",
              "        7.87270288e-01,  6.60986289e-01,  8.17871050e-01,  8.40619277e-01,\n",
              "        8.40612043e-01,  3.39738136e-02,  8.62307385e-01,  1.59529435e-01,\n",
              "        8.74507834e-01,  8.02412360e-01,  7.17826067e-01,  8.65840192e-01,\n",
              "        8.51999656e-01,  7.49226855e-01,  7.78914569e-01,  4.04666820e-02,\n",
              "        6.90469197e-01,  8.29959999e-01,  7.81355533e-01,  8.88973678e-01,\n",
              "        7.60794424e-01,  8.55591122e-01,  5.14798835e-02,  7.98229719e-01,\n",
              "        6.94866318e-01,  8.13670037e-01,  6.85945117e-01,  7.83016213e-01,\n",
              "        6.47985503e-01,  8.33294462e-01,  7.93930405e-01,  8.48425767e-01,\n",
              "        1.16769474e-01,  5.56084016e-01,  6.52021985e-02,  7.16730588e-01,\n",
              "        1.08853998e-01,  1.36469808e-01,  7.72500184e-01,  8.74238690e-01,\n",
              "        8.75500470e-01,  8.36021847e-01,  7.49846081e-01,  8.51958786e-01,\n",
              "        6.96031411e-01,  9.07821403e-01,  8.13803008e-01,  7.19783156e-01,\n",
              "        5.58543023e-02,  7.41610706e-01,  1.31330066e-01,  8.72142340e-01,\n",
              "        8.00543353e-01,  8.54720073e-01,  8.31785903e-01,  8.18428821e-02,\n",
              "        8.78037745e-01,  6.88443298e-01,  7.00149680e-01,  8.44264620e-01,\n",
              "        8.30260543e-01,  1.35101160e-01,  8.61267710e-01,  8.60143377e-01,\n",
              "        6.93585962e-01,  7.96110297e-01,  8.26166854e-01,  8.33853678e-01,\n",
              "        8.37071027e-01,  7.59036940e-01,  5.33669008e-02,  7.87160785e-01,\n",
              "        8.37413985e-01,  7.87099598e-01,  5.66162224e-01,  6.77482124e-01,\n",
              "        6.86123634e-01,  6.99369334e-01,  1.12743096e-01,  9.07577819e-01,\n",
              "        7.68731713e-01,  7.76631383e-01,  8.69019213e-01, -2.93270442e-02,\n",
              "        7.15966362e-01,  7.84434805e-01,  7.91917331e-01,  6.19722664e-01,\n",
              "        7.88992929e-01,  7.77335893e-01,  6.15638303e-01,  7.82308929e-01,\n",
              "        8.26314387e-01,  8.28274284e-01,  6.76698975e-01,  8.11178045e-01,\n",
              "        8.55928582e-01,  8.28618660e-01,  6.60690163e-01,  8.16028325e-01,\n",
              "        8.58671426e-01,  6.81238114e-02,  7.25738855e-01,  7.08846062e-01,\n",
              "        8.08628490e-01,  7.77243865e-01,  8.49632048e-01,  6.90247400e-01,\n",
              "        7.34596346e-01,  7.86694917e-01,  8.61920390e-01,  6.72555097e-02,\n",
              "        6.97020558e-01,  6.98477679e-01,  6.51879677e-01,  8.93048219e-01,\n",
              "        4.52577079e-02,  6.37925881e-01,  7.42556862e-01,  6.61735823e-01,\n",
              "        7.84427642e-01,  7.72468032e-01,  7.91021361e-01,  8.68234327e-01,\n",
              "        8.70510422e-01,  7.28599373e-02,  7.90408081e-01,  7.89918382e-01,\n",
              "        7.02153947e-01,  8.15295891e-01,  7.44679221e-01,  7.20789916e-01,\n",
              "        7.40392475e-02,  8.26903087e-01,  1.35877649e-01,  7.55848692e-01,\n",
              "        8.37638092e-01,  6.22310079e-02,  1.09075876e-01,  8.80608489e-01,\n",
              "        6.76286234e-01,  8.38425183e-01,  8.22876390e-01,  8.39965325e-01,\n",
              "        8.06766335e-01,  7.63978005e-01,  8.01619950e-01,  6.96655201e-01,\n",
              "        1.38479793e-01,  6.70414880e-01,  7.89167176e-01,  1.20964797e-01,\n",
              "        8.23847989e-01,  1.48014527e-01,  8.44167407e-01,  1.38749557e-01,\n",
              "        8.51130080e-01,  7.61210790e-01,  8.65825524e-01,  9.11547994e-01,\n",
              "        1.22563992e-01,  7.52552686e-01,  8.29124832e-01,  7.37006052e-01,\n",
              "        8.46779031e-01,  4.65350847e-01,  9.00403055e-01,  7.50407197e-01,\n",
              "        1.11250693e-01,  8.36370814e-01,  8.63446081e-01,  7.29988366e-01,\n",
              "        7.68440287e-01,  1.59088124e-01,  8.63573595e-01,  8.58939728e-01,\n",
              "        7.30528046e-01,  8.26666515e-01,  8.45814623e-01,  6.86236006e-01,\n",
              "        7.64527103e-01,  5.76351725e-02,  8.31983417e-01,  8.65040573e-01,\n",
              "        2.59256544e-01,  7.45700830e-01,  8.86574665e-01,  6.90767588e-01,\n",
              "        7.86781640e-01,  7.88495676e-01,  8.25316215e-01,  7.67421544e-01,\n",
              "        8.28418314e-01,  7.76765164e-01,  8.98157892e-01,  8.43823627e-01,\n",
              "        8.67824329e-01,  6.50658140e-02])"
            ]
          },
          "metadata": {},
          "execution_count": 27
        }
      ]
    },
    {
      "cell_type": "code",
      "metadata": {
        "colab": {
          "base_uri": "https://localhost:8080/"
        },
        "id": "USmuI_nTxlpS",
        "outputId": "84f47f69-f035-4e63-d4a5-e66ce3b9910f"
      },
      "source": [
        "from sklearn.metrics import accuracy_score\n",
        "\n",
        "accuracy_score(y_train, y_pred.round())"
      ],
      "execution_count": null,
      "outputs": [
        {
          "output_type": "execute_result",
          "data": {
            "text/plain": [
              "0.8127035830618893"
            ]
          },
          "metadata": {},
          "execution_count": 28
        }
      ]
    },
    {
      "cell_type": "code",
      "metadata": {
        "colab": {
          "base_uri": "https://localhost:8080/"
        },
        "id": "g5lmM-8FT_yx",
        "outputId": "6bb22e9f-c663-4f7b-8390-2cbb744c8add"
      },
      "source": [
        "lr.score(X_train, y_train)"
      ],
      "execution_count": null,
      "outputs": [
        {
          "output_type": "execute_result",
          "data": {
            "text/plain": [
              "0.3098318892624502"
            ]
          },
          "metadata": {},
          "execution_count": 29
        }
      ]
    },
    {
      "cell_type": "code",
      "metadata": {
        "colab": {
          "base_uri": "https://localhost:8080/"
        },
        "id": "Kt1aDsPVx_jH",
        "outputId": "5616c20f-3a4c-41c7-9ee0-1a998898694b"
      },
      "source": [
        "from sklearn.metrics import mean_squared_error, mean_absolute_error\n",
        "\n",
        "mean_absolute_error(y_train, y_pred)"
      ],
      "execution_count": null,
      "outputs": [
        {
          "output_type": "execute_result",
          "data": {
            "text/plain": [
              "0.2971359639514148"
            ]
          },
          "metadata": {},
          "execution_count": 30
        }
      ]
    },
    {
      "cell_type": "code",
      "metadata": {
        "id": "UA1d6SUX5xok"
      },
      "source": [
        ""
      ],
      "execution_count": null,
      "outputs": []
    },
    {
      "cell_type": "markdown",
      "metadata": {
        "id": "OTghSZl26Ki_"
      },
      "source": [
        "##### **LogisticRegression**"
      ]
    },
    {
      "cell_type": "code",
      "metadata": {
        "id": "Y2TwZuso6IHk"
      },
      "source": [
        "from sklearn.linear_model import LogisticRegression"
      ],
      "execution_count": null,
      "outputs": []
    },
    {
      "cell_type": "code",
      "metadata": {
        "id": "KmAZhspU6Qw2"
      },
      "source": [
        ""
      ],
      "execution_count": null,
      "outputs": []
    },
    {
      "cell_type": "code",
      "metadata": {
        "id": "T2oSvhzT6SVi"
      },
      "source": [
        ""
      ],
      "execution_count": null,
      "outputs": []
    },
    {
      "cell_type": "code",
      "metadata": {
        "id": "ZkHgBsbj6SYw"
      },
      "source": [
        ""
      ],
      "execution_count": null,
      "outputs": []
    },
    {
      "cell_type": "markdown",
      "metadata": {
        "id": "3fsec76U6SuZ"
      },
      "source": [
        "##### **SupportVectorMachines**"
      ]
    },
    {
      "cell_type": "code",
      "metadata": {
        "colab": {
          "base_uri": "https://localhost:8080/"
        },
        "id": "usOsoEue6ZUi",
        "outputId": "9383cd99-5c0d-4d8f-e821-7f54910ba4d6"
      },
      "source": [
        "from sklearn.svm import SVC\n",
        "\n",
        "svm = SVC()\n",
        "\n",
        "svm.fit(X_train, y_train)"
      ],
      "execution_count": null,
      "outputs": [
        {
          "output_type": "execute_result",
          "data": {
            "text/plain": [
              "SVC()"
            ]
          },
          "metadata": {},
          "execution_count": 32
        }
      ]
    },
    {
      "cell_type": "code",
      "metadata": {
        "colab": {
          "base_uri": "https://localhost:8080/"
        },
        "id": "f9seo29C6lFL",
        "outputId": "92b9d732-94b6-4b3b-81e1-87eb31355fe1"
      },
      "source": [
        "# Model Score\n",
        "\n",
        "svm.score(X_train, y_train)"
      ],
      "execution_count": null,
      "outputs": [
        {
          "output_type": "execute_result",
          "data": {
            "text/plain": [
              "0.6921824104234527"
            ]
          },
          "metadata": {},
          "execution_count": 33
        }
      ]
    },
    {
      "cell_type": "code",
      "metadata": {
        "id": "dK2EvR1C6cg_"
      },
      "source": [
        "# Prediction\n",
        "\n",
        "y_pred = svm.predict(pl)"
      ],
      "execution_count": null,
      "outputs": []
    },
    {
      "cell_type": "code",
      "metadata": {
        "colab": {
          "base_uri": "https://localhost:8080/"
        },
        "id": "syOZsiVN7-U9",
        "outputId": "a87d3284-87fd-4df2-b2fc-71cc99a83a95"
      },
      "source": [
        "# Valuation Score\n",
        "\n",
        "svm.score(pl, y_pred)"
      ],
      "execution_count": null,
      "outputs": [
        {
          "output_type": "execute_result",
          "data": {
            "text/plain": [
              "1.0"
            ]
          },
          "metadata": {},
          "execution_count": 35
        }
      ]
    },
    {
      "cell_type": "code",
      "metadata": {
        "id": "89dFSkiF9XpC"
      },
      "source": [
        ""
      ],
      "execution_count": null,
      "outputs": []
    },
    {
      "cell_type": "markdown",
      "metadata": {
        "id": "KQJDj7tf-6PL"
      },
      "source": [
        "##### Lesson Learnt"
      ]
    },
    {
      "cell_type": "markdown",
      "metadata": {
        "id": "xYPNeRV89uau"
      },
      "source": [
        "    Lesson Learnt - \n",
        "\n",
        "    model.score(X,y)\n",
        "            -->> predicts the target value for X_df under hood, and compares that under_hood_predicted_value with the \"y\""
      ]
    },
    {
      "cell_type": "markdown",
      "metadata": {
        "id": "ddXxeExwI618"
      },
      "source": [
        "##### **kNearestNeighbors**"
      ]
    },
    {
      "cell_type": "code",
      "metadata": {
        "colab": {
          "base_uri": "https://localhost:8080/"
        },
        "id": "A71ib-NAI_MG",
        "outputId": "be21238b-d4ba-42e0-864b-1a0645f01cac"
      },
      "source": [
        "from sklearn.neighbors import KNeighborsClassifier\n",
        "\n",
        "knn = KNeighborsClassifier()\n",
        "\n",
        "knn.fit(X_train, y_train)"
      ],
      "execution_count": null,
      "outputs": [
        {
          "output_type": "execute_result",
          "data": {
            "text/plain": [
              "KNeighborsClassifier()"
            ]
          },
          "metadata": {},
          "execution_count": 36
        }
      ]
    },
    {
      "cell_type": "code",
      "metadata": {
        "colab": {
          "base_uri": "https://localhost:8080/"
        },
        "id": "RNinY4q8JN88",
        "outputId": "45e5294b-a79d-45dd-df02-df55f4213cb6"
      },
      "source": [
        "# Model Score\n",
        "\n",
        "knn.score(X_train, y_train)"
      ],
      "execution_count": null,
      "outputs": [
        {
          "output_type": "execute_result",
          "data": {
            "text/plain": [
              "0.7296416938110749"
            ]
          },
          "metadata": {},
          "execution_count": 37
        }
      ]
    },
    {
      "cell_type": "code",
      "metadata": {
        "id": "cnbgG2QVJNrF"
      },
      "source": [
        "# Prediction\n",
        "\n",
        "y_pred = knn.predict(pl)"
      ],
      "execution_count": null,
      "outputs": []
    },
    {
      "cell_type": "code",
      "metadata": {
        "colab": {
          "base_uri": "https://localhost:8080/"
        },
        "id": "VFQpDbSYJNjo",
        "outputId": "1c3f6707-c5ba-4385-8428-d859ecafbcf7"
      },
      "source": [
        "# Valuation Score\n",
        "\n",
        "knn.score(pl, y_pred)"
      ],
      "execution_count": null,
      "outputs": [
        {
          "output_type": "execute_result",
          "data": {
            "text/plain": [
              "1.0"
            ]
          },
          "metadata": {},
          "execution_count": 39
        }
      ]
    },
    {
      "cell_type": "code",
      "metadata": {
        "id": "V-1t6NTvJcr9"
      },
      "source": [
        ""
      ],
      "execution_count": null,
      "outputs": []
    },
    {
      "cell_type": "markdown",
      "metadata": {
        "id": "YL7GiLzp8H9Z"
      },
      "source": [
        "##### **DecisionTreeClassifier**"
      ]
    },
    {
      "cell_type": "code",
      "metadata": {
        "colab": {
          "base_uri": "https://localhost:8080/"
        },
        "id": "ZW1sxMRM8Ket",
        "outputId": "61086417-60f6-4063-fec1-937991c5f4d0"
      },
      "source": [
        "from sklearn.tree import DecisionTreeClassifier\n",
        "\n",
        "tree = DecisionTreeClassifier()\n",
        "\n",
        "tree.fit(X_train, y_train)"
      ],
      "execution_count": null,
      "outputs": [
        {
          "output_type": "execute_result",
          "data": {
            "text/plain": [
              "DecisionTreeClassifier()"
            ]
          },
          "metadata": {},
          "execution_count": 40
        }
      ]
    },
    {
      "cell_type": "code",
      "metadata": {
        "colab": {
          "base_uri": "https://localhost:8080/"
        },
        "id": "G7TE7E24_O8N",
        "outputId": "2d2e6128-cc39-442c-a6d7-073974f33483"
      },
      "source": [
        "# Model Score\n",
        "\n",
        "tree.score(X_train, y_train)"
      ],
      "execution_count": null,
      "outputs": [
        {
          "output_type": "execute_result",
          "data": {
            "text/plain": [
              "1.0"
            ]
          },
          "metadata": {},
          "execution_count": 41
        }
      ]
    },
    {
      "cell_type": "code",
      "metadata": {
        "id": "XCYHjofL8Scs"
      },
      "source": [
        "# Prediction\n",
        "\n",
        "y_pred = tree.predict(pl)"
      ],
      "execution_count": null,
      "outputs": []
    },
    {
      "cell_type": "code",
      "metadata": {
        "colab": {
          "base_uri": "https://localhost:8080/"
        },
        "id": "IU4ZTu8z8cWd",
        "outputId": "596b3b6f-05f0-4d6b-81a0-180fc0f7aeb1"
      },
      "source": [
        "# Valuation Score\n",
        "\n",
        "tree.score(pl, y_pred)"
      ],
      "execution_count": null,
      "outputs": [
        {
          "output_type": "execute_result",
          "data": {
            "text/plain": [
              "1.0"
            ]
          },
          "metadata": {},
          "execution_count": 43
        }
      ]
    },
    {
      "cell_type": "code",
      "metadata": {
        "id": "8ur3d47N8qap"
      },
      "source": [
        ""
      ],
      "execution_count": null,
      "outputs": []
    },
    {
      "cell_type": "markdown",
      "metadata": {
        "id": "p_DoRgcA8yi4"
      },
      "source": [
        "##### **RandomForestClassifier**"
      ]
    },
    {
      "cell_type": "code",
      "metadata": {
        "colab": {
          "base_uri": "https://localhost:8080/"
        },
        "id": "tpafBAxA_WUB",
        "outputId": "4ea11444-79d1-4d81-da28-cfbd98650c88"
      },
      "source": [
        "from sklearn.ensemble import RandomForestClassifier\n",
        "\n",
        "rfc = RandomForestClassifier()\n",
        "\n",
        "rfc.fit(X_train, y_train)"
      ],
      "execution_count": null,
      "outputs": [
        {
          "output_type": "execute_result",
          "data": {
            "text/plain": [
              "RandomForestClassifier()"
            ]
          },
          "metadata": {},
          "execution_count": 44
        }
      ]
    },
    {
      "cell_type": "code",
      "metadata": {
        "colab": {
          "base_uri": "https://localhost:8080/"
        },
        "id": "hsG0GkqC_kWq",
        "outputId": "d415a0ad-f438-4fe0-9448-bb4c6bf521b0"
      },
      "source": [
        "# Model Score\n",
        "\n",
        "rfc.score(X_train, y_train)"
      ],
      "execution_count": null,
      "outputs": [
        {
          "output_type": "execute_result",
          "data": {
            "text/plain": [
              "1.0"
            ]
          },
          "metadata": {},
          "execution_count": 45
        }
      ]
    },
    {
      "cell_type": "code",
      "metadata": {
        "id": "fg9YIyOC_qTX"
      },
      "source": [
        "# Prediction\n",
        "\n",
        "y_pred = rfc.predict(pl)"
      ],
      "execution_count": null,
      "outputs": []
    },
    {
      "cell_type": "code",
      "metadata": {
        "colab": {
          "base_uri": "https://localhost:8080/"
        },
        "id": "WubI9K91_u2G",
        "outputId": "05935cf9-2d99-47c8-bcfa-2638ea383827"
      },
      "source": [
        "# Valuation Score\n",
        "\n",
        "rfc.score(pl, y_pred)"
      ],
      "execution_count": null,
      "outputs": [
        {
          "output_type": "execute_result",
          "data": {
            "text/plain": [
              "1.0"
            ]
          },
          "metadata": {},
          "execution_count": 47
        }
      ]
    },
    {
      "cell_type": "code",
      "metadata": {
        "id": "xgw_gEPm_zzY"
      },
      "source": [
        ""
      ],
      "execution_count": null,
      "outputs": []
    },
    {
      "cell_type": "markdown",
      "metadata": {
        "id": "4yJ_Mjnm_1pa"
      },
      "source": [
        "##### **AdaBoostClassifier**"
      ]
    },
    {
      "cell_type": "code",
      "metadata": {
        "colab": {
          "base_uri": "https://localhost:8080/"
        },
        "id": "pKuyGlXg_-8v",
        "outputId": "579385db-3fae-4bb1-d698-9f6be8e123d4"
      },
      "source": [
        "from sklearn.ensemble import AdaBoostClassifier\n",
        "\n",
        "ada = AdaBoostClassifier()\n",
        "\n",
        "ada.fit(X_train, y_train)"
      ],
      "execution_count": null,
      "outputs": [
        {
          "output_type": "execute_result",
          "data": {
            "text/plain": [
              "AdaBoostClassifier()"
            ]
          },
          "metadata": {},
          "execution_count": 48
        }
      ]
    },
    {
      "cell_type": "code",
      "metadata": {
        "colab": {
          "base_uri": "https://localhost:8080/"
        },
        "id": "ty4pPp6tFLOe",
        "outputId": "1d54d00c-cc4b-43f1-bf3a-538bfee490ca"
      },
      "source": [
        "# Model Score\n",
        "\n",
        "ada.score(X_train, y_train)"
      ],
      "execution_count": null,
      "outputs": [
        {
          "output_type": "execute_result",
          "data": {
            "text/plain": [
              "0.8436482084690554"
            ]
          },
          "metadata": {},
          "execution_count": 49
        }
      ]
    },
    {
      "cell_type": "code",
      "metadata": {
        "id": "_eT02BQtFQHI"
      },
      "source": [
        "# Prediction\n",
        "\n",
        "y_pred = ada.predict(pl)"
      ],
      "execution_count": null,
      "outputs": []
    },
    {
      "cell_type": "code",
      "metadata": {
        "colab": {
          "base_uri": "https://localhost:8080/"
        },
        "id": "gupwHRvTFVt5",
        "outputId": "6c15a1cf-1de6-4a42-dbf7-905b6d4f7237"
      },
      "source": [
        "# Valuation Score\n",
        "\n",
        "ada.score(pl, y_pred)"
      ],
      "execution_count": null,
      "outputs": [
        {
          "output_type": "execute_result",
          "data": {
            "text/plain": [
              "1.0"
            ]
          },
          "metadata": {},
          "execution_count": 51
        }
      ]
    },
    {
      "cell_type": "code",
      "metadata": {
        "id": "rEmPx-PMFagZ"
      },
      "source": [
        ""
      ],
      "execution_count": null,
      "outputs": []
    },
    {
      "cell_type": "markdown",
      "metadata": {
        "id": "PsO_08tOFs8B"
      },
      "source": [
        "##### **GradientBoostingClassifier**"
      ]
    },
    {
      "cell_type": "code",
      "metadata": {
        "colab": {
          "base_uri": "https://localhost:8080/"
        },
        "id": "ZlZBirxhFwAL",
        "outputId": "44720cbc-b1ef-42de-b896-f6746466497e"
      },
      "source": [
        "from sklearn.ensemble import GradientBoostingClassifier\n",
        "\n",
        "grad = GradientBoostingClassifier()\n",
        "\n",
        "grad.fit(X_train, y_train)"
      ],
      "execution_count": null,
      "outputs": [
        {
          "output_type": "execute_result",
          "data": {
            "text/plain": [
              "GradientBoostingClassifier()"
            ]
          },
          "metadata": {},
          "execution_count": 52
        }
      ]
    },
    {
      "cell_type": "code",
      "metadata": {
        "colab": {
          "base_uri": "https://localhost:8080/"
        },
        "id": "ML0FESYNF5ao",
        "outputId": "b5e365bb-ec87-4ba9-be97-9ca60123f281"
      },
      "source": [
        "# Model Score\n",
        "\n",
        "grad.score(X_train, y_train)"
      ],
      "execution_count": null,
      "outputs": [
        {
          "output_type": "execute_result",
          "data": {
            "text/plain": [
              "0.8794788273615635"
            ]
          },
          "metadata": {},
          "execution_count": 53
        }
      ]
    },
    {
      "cell_type": "code",
      "metadata": {
        "id": "4kxLpl2qGIBE"
      },
      "source": [
        "# Prediction\n",
        "\n",
        "y_pred = grad.predict(pl)"
      ],
      "execution_count": null,
      "outputs": []
    },
    {
      "cell_type": "code",
      "metadata": {
        "colab": {
          "base_uri": "https://localhost:8080/"
        },
        "id": "OsmufD50F9ov",
        "outputId": "7e246079-6721-4433-dbd2-22c19f264a34"
      },
      "source": [
        "# Valuation Score\n",
        "\n",
        "grad.score(pl, grad.predict(pl))"
      ],
      "execution_count": null,
      "outputs": [
        {
          "output_type": "execute_result",
          "data": {
            "text/plain": [
              "1.0"
            ]
          },
          "metadata": {},
          "execution_count": 55
        }
      ]
    },
    {
      "cell_type": "code",
      "metadata": {
        "id": "LJwQfej9GEoJ"
      },
      "source": [
        ""
      ],
      "execution_count": null,
      "outputs": []
    },
    {
      "cell_type": "markdown",
      "metadata": {
        "id": "OcPYQFbkGPP8"
      },
      "source": [
        "##### **XGBClassifier**"
      ]
    },
    {
      "cell_type": "code",
      "metadata": {
        "colab": {
          "base_uri": "https://localhost:8080/"
        },
        "id": "0PKtocFTGSCe",
        "outputId": "0a27303e-46e9-466c-bfc1-5b62ffec1f0b"
      },
      "source": [
        "import xgboost\n",
        "from xgboost import XGBClassifier\n",
        "\n",
        "xgb = XGBClassifier()\n",
        "\n",
        "xgb.fit(X_train, y_train)"
      ],
      "execution_count": null,
      "outputs": [
        {
          "output_type": "execute_result",
          "data": {
            "text/plain": [
              "XGBClassifier()"
            ]
          },
          "metadata": {},
          "execution_count": 56
        }
      ]
    },
    {
      "cell_type": "code",
      "metadata": {
        "colab": {
          "base_uri": "https://localhost:8080/"
        },
        "id": "e6SQXD_HGdWC",
        "outputId": "88af8f52-4128-4a28-b61e-fa4085111219"
      },
      "source": [
        "# Model Score\n",
        "\n",
        "xgb.score(X_train, y_train)"
      ],
      "execution_count": null,
      "outputs": [
        {
          "output_type": "execute_result",
          "data": {
            "text/plain": [
              "0.8534201954397395"
            ]
          },
          "metadata": {},
          "execution_count": 57
        }
      ]
    },
    {
      "cell_type": "code",
      "metadata": {
        "id": "lgWPYh5PGg_s"
      },
      "source": [
        "# Prediction\n",
        "\n",
        "y_pred = xgb.predict(pl)"
      ],
      "execution_count": null,
      "outputs": []
    },
    {
      "cell_type": "code",
      "metadata": {
        "colab": {
          "base_uri": "https://localhost:8080/"
        },
        "id": "D4i9vxwwHZyd",
        "outputId": "638dff0d-3a0d-45d4-d474-f2c831db8177"
      },
      "source": [
        "# Valuation Score\n",
        "\n",
        "xgb.score(pl, y_pred)"
      ],
      "execution_count": null,
      "outputs": [
        {
          "output_type": "execute_result",
          "data": {
            "text/plain": [
              "1.0"
            ]
          },
          "metadata": {},
          "execution_count": 59
        }
      ]
    },
    {
      "cell_type": "code",
      "metadata": {
        "id": "GJV_nCsZHeTa"
      },
      "source": [
        ""
      ],
      "execution_count": null,
      "outputs": []
    },
    {
      "cell_type": "markdown",
      "metadata": {
        "id": "n1h26wtSIv_q"
      },
      "source": [
        "##### **Gobbledygook**"
      ]
    },
    {
      "cell_type": "code",
      "metadata": {
        "id": "jQC-Z4buIyTR"
      },
      "source": [
        ""
      ],
      "execution_count": null,
      "outputs": []
    },
    {
      "cell_type": "markdown",
      "metadata": {
        "id": "pFb5MCG6JmAX"
      },
      "source": [
        "##### **Model Selected**"
      ]
    },
    {
      "cell_type": "markdown",
      "metadata": {
        "id": "svsTXbdtJp32"
      },
      "source": [
        "**The selected model based on model score (model.score) is RandomForestClassifier, whose training score was 1**"
      ]
    },
    {
      "cell_type": "code",
      "metadata": {
        "id": "4PcWhDXPJot7"
      },
      "source": [
        ""
      ],
      "execution_count": null,
      "outputs": []
    },
    {
      "cell_type": "markdown",
      "metadata": {
        "id": "hD27qRrkJ4us"
      },
      "source": [
        "##### **Deployment**"
      ]
    },
    {
      "cell_type": "code",
      "metadata": {
        "id": "RVhVFmxQNL8i"
      },
      "source": [
        "# Pckle dump\n",
        "\n",
        "import pickle\n",
        "\n",
        "pickle.dump(rfc, open(\"model_rfc.pkl\", \"wb\"))"
      ],
      "execution_count": null,
      "outputs": []
    },
    {
      "cell_type": "code",
      "metadata": {
        "id": "4733pVmQNURO"
      },
      "source": [
        "# Pydantic\n",
        "\n",
        "# !pip install pydantic\n",
        "from pydantic import BaseModel\n",
        "\n",
        "class Customer_details(BaseModel):\n",
        "  Gender             : str\n",
        "  Married            : str\n",
        "  Dependents         : int\n",
        "  Education          : str\n",
        "  Self_Employed      : str\n",
        "  ApplicantIncome    : float\n",
        "  CoapplicantIncome  : float\n",
        "  LoanAmount         : float\n",
        "  Loan_Amount_Term   : float\n",
        "  Credit_History     : float\n",
        "  Property_Area      : str\n",
        "\n",
        "  class Config:\n",
        "    schema_extra = {\n",
        "        \"example\" : {\n",
        "            \"Gender\"            : \"Male\",\n",
        "            \"Married\"           : \"No\",\n",
        "            \"Dependents\"        : 0,\n",
        "            \"Education\"         : \"Graduate\",\n",
        "            \"Self_Employed\"     : \"Yes\",\n",
        "            \"ApplicantIncome\"   : 3564,\n",
        "            \"CoapplicantIncome\" : 5482,\n",
        "            \"LoanAmount\"        : 265.0,\n",
        "            \"Loan_Amount_Term\"  : 258.0,\n",
        "            \"Credit_History\"    : 1,\n",
        "            \"Proprty_Area\"      : \"Urban\"\n",
        "        }\n",
        "    }"
      ],
      "execution_count": null,
      "outputs": []
    },
    {
      "cell_type": "code",
      "metadata": {
        "colab": {
          "base_uri": "https://localhost:8080/"
        },
        "id": "cmfkkWSuSyf-",
        "outputId": "5510dea5-b2b4-4e3c-d690-11762f478503"
      },
      "source": [
        "# FastAPI\n",
        "\n",
        "!pip install fastapi\n",
        "from fastapi import FastAPI\n",
        "\n",
        "app = FastAPI()\n",
        "\n",
        "@app.on_event(\"startup\")\n",
        "def load_model():                                   # path.operation.functiuno\n",
        "  global model\n",
        "  model = pickle.load(open(\"model_rfc.pkl\", \"rb\"))\n",
        "\n",
        "@app.get(\"/\")\n",
        "def index():\n",
        "  return {\"message\" : \"Homepage of API\"}\n",
        "\n",
        "@app.post(\"predict\")\n",
        "def get_customer_details(data: Customer_details):\n",
        "  received = data.dict()\n",
        "  Gender  =  received[\"Gender\"]\n",
        "  Married  =  received[\"Married\"]\n",
        "  Dependents  =  received[\"Dependents\"]\n",
        "  Education  =  received[\"Education\"]\n",
        "  Self_Employed  =  received[\"Self_Employed\"]\n",
        "  ApplicantIncome  =  received[\"ApplicantIncome\"]\n",
        "  CoapplicantIncome  =  received[\"CoapplicantIncome\"]\n",
        "  LoanAmount  =  received[\"LoanAmount\"]\n",
        "  Loan_Amount_Term  =  received[\"Loan_Amount_Term\"]\n",
        "  Credit_History  =  received[\"Credit_History\"]\n",
        "  Property_Area  =  received[\"Property_Area\"]\n",
        "\n",
        "  pred_name = model.predict([[Gender, Married, Dependents, Education, Self_Employed, ApplicantIncome, CoapplicantIncome, LoanAmount, Loan_Amount_Term, Credit_History, Property_Area]]).tolist()[0]\n",
        "  return {\"prediction\" : pred_name}"
      ],
      "execution_count": null,
      "outputs": [
        {
          "output_type": "stream",
          "name": "stdout",
          "text": [
            "Requirement already satisfied: fastapi in /usr/local/lib/python3.7/dist-packages (0.70.0)\n",
            "Requirement already satisfied: starlette==0.16.0 in /usr/local/lib/python3.7/dist-packages (from fastapi) (0.16.0)\n",
            "Requirement already satisfied: pydantic!=1.7,!=1.7.1,!=1.7.2,!=1.7.3,!=1.8,!=1.8.1,<2.0.0,>=1.6.2 in /usr/local/lib/python3.7/dist-packages (from fastapi) (1.8.2)\n",
            "Requirement already satisfied: anyio<4,>=3.0.0 in /usr/local/lib/python3.7/dist-packages (from starlette==0.16.0->fastapi) (3.4.0)\n",
            "Requirement already satisfied: typing-extensions in /usr/local/lib/python3.7/dist-packages (from starlette==0.16.0->fastapi) (3.10.0.2)\n",
            "Requirement already satisfied: sniffio>=1.1 in /usr/local/lib/python3.7/dist-packages (from anyio<4,>=3.0.0->starlette==0.16.0->fastapi) (1.2.0)\n",
            "Requirement already satisfied: idna>=2.8 in /usr/local/lib/python3.7/dist-packages (from anyio<4,>=3.0.0->starlette==0.16.0->fastapi) (2.10)\n"
          ]
        }
      ]
    },
    {
      "cell_type": "code",
      "metadata": {
        "colab": {
          "base_uri": "https://localhost:8080/"
        },
        "id": "wd9T0QcjJ6ui",
        "outputId": "4fc408e2-9f09-41ca-b06a-079abc578939"
      },
      "source": [
        "# ColabCode\n",
        "\n",
        "!pip install colabcode\n",
        "\n",
        "from colabcode import ColabCode\n",
        "\n",
        "server = ColabCode(port = 15000, code=False)"
      ],
      "execution_count": null,
      "outputs": [
        {
          "output_type": "stream",
          "name": "stdout",
          "text": [
            "Requirement already satisfied: colabcode in /usr/local/lib/python3.7/dist-packages (0.3.0)\n",
            "Requirement already satisfied: nest-asyncio==1.4.3 in /usr/local/lib/python3.7/dist-packages (from colabcode) (1.4.3)\n",
            "Requirement already satisfied: uvicorn==0.13.1 in /usr/local/lib/python3.7/dist-packages (from colabcode) (0.13.1)\n",
            "Requirement already satisfied: pyngrok>=5.0.0 in /usr/local/lib/python3.7/dist-packages (from colabcode) (5.1.0)\n",
            "Requirement already satisfied: jupyterlab==3.0.7 in /usr/local/lib/python3.7/dist-packages (from colabcode) (3.0.7)\n",
            "Requirement already satisfied: packaging in /usr/local/lib/python3.7/dist-packages (from jupyterlab==3.0.7->colabcode) (21.3)\n",
            "Requirement already satisfied: jupyterlab-server~=2.0 in /usr/local/lib/python3.7/dist-packages (from jupyterlab==3.0.7->colabcode) (2.8.2)\n",
            "Requirement already satisfied: jupyter-server~=1.2 in /usr/local/lib/python3.7/dist-packages (from jupyterlab==3.0.7->colabcode) (1.12.1)\n",
            "Requirement already satisfied: jinja2>=2.10 in /usr/local/lib/python3.7/dist-packages (from jupyterlab==3.0.7->colabcode) (2.11.3)\n",
            "Requirement already satisfied: ipython in /usr/local/lib/python3.7/dist-packages (from jupyterlab==3.0.7->colabcode) (5.5.0)\n",
            "Requirement already satisfied: nbclassic~=0.2 in /usr/local/lib/python3.7/dist-packages (from jupyterlab==3.0.7->colabcode) (0.3.4)\n",
            "Requirement already satisfied: tornado>=6.1.0 in /usr/local/lib/python3.7/dist-packages (from jupyterlab==3.0.7->colabcode) (6.1)\n",
            "Requirement already satisfied: jupyter-core in /usr/local/lib/python3.7/dist-packages (from jupyterlab==3.0.7->colabcode) (4.9.1)\n",
            "Requirement already satisfied: h11>=0.8 in /usr/local/lib/python3.7/dist-packages (from uvicorn==0.13.1->colabcode) (0.12.0)\n",
            "Requirement already satisfied: typing-extensions in /usr/local/lib/python3.7/dist-packages (from uvicorn==0.13.1->colabcode) (3.10.0.2)\n",
            "Requirement already satisfied: click==7.* in /usr/local/lib/python3.7/dist-packages (from uvicorn==0.13.1->colabcode) (7.1.2)\n",
            "Requirement already satisfied: MarkupSafe>=0.23 in /usr/local/lib/python3.7/dist-packages (from jinja2>=2.10->jupyterlab==3.0.7->colabcode) (2.0.1)\n",
            "Requirement already satisfied: Send2Trash in /usr/local/lib/python3.7/dist-packages (from jupyter-server~=1.2->jupyterlab==3.0.7->colabcode) (1.8.0)\n",
            "Requirement already satisfied: anyio<4,>=3.1.0 in /usr/local/lib/python3.7/dist-packages (from jupyter-server~=1.2->jupyterlab==3.0.7->colabcode) (3.4.0)\n",
            "Requirement already satisfied: ipython-genutils in /usr/local/lib/python3.7/dist-packages (from jupyter-server~=1.2->jupyterlab==3.0.7->colabcode) (0.2.0)\n",
            "Requirement already satisfied: jupyter-client>=6.1.1 in /usr/local/lib/python3.7/dist-packages (from jupyter-server~=1.2->jupyterlab==3.0.7->colabcode) (6.1.12)\n",
            "Requirement already satisfied: argon2-cffi in /usr/local/lib/python3.7/dist-packages (from jupyter-server~=1.2->jupyterlab==3.0.7->colabcode) (21.1.0)\n",
            "Requirement already satisfied: terminado>=0.8.3 in /usr/local/lib/python3.7/dist-packages (from jupyter-server~=1.2->jupyterlab==3.0.7->colabcode) (0.12.1)\n",
            "Requirement already satisfied: websocket-client in /usr/local/lib/python3.7/dist-packages (from jupyter-server~=1.2->jupyterlab==3.0.7->colabcode) (1.2.1)\n",
            "Requirement already satisfied: prometheus-client in /usr/local/lib/python3.7/dist-packages (from jupyter-server~=1.2->jupyterlab==3.0.7->colabcode) (0.12.0)\n",
            "Requirement already satisfied: nbformat in /usr/local/lib/python3.7/dist-packages (from jupyter-server~=1.2->jupyterlab==3.0.7->colabcode) (5.1.3)\n",
            "Requirement already satisfied: nbconvert in /usr/local/lib/python3.7/dist-packages (from jupyter-server~=1.2->jupyterlab==3.0.7->colabcode) (5.6.1)\n",
            "Requirement already satisfied: traitlets>=4.2.1 in /usr/local/lib/python3.7/dist-packages (from jupyter-server~=1.2->jupyterlab==3.0.7->colabcode) (5.1.1)\n",
            "Requirement already satisfied: pyzmq>=17 in /usr/local/lib/python3.7/dist-packages (from jupyter-server~=1.2->jupyterlab==3.0.7->colabcode) (22.3.0)\n",
            "Requirement already satisfied: idna>=2.8 in /usr/local/lib/python3.7/dist-packages (from anyio<4,>=3.1.0->jupyter-server~=1.2->jupyterlab==3.0.7->colabcode) (2.10)\n",
            "Requirement already satisfied: sniffio>=1.1 in /usr/local/lib/python3.7/dist-packages (from anyio<4,>=3.1.0->jupyter-server~=1.2->jupyterlab==3.0.7->colabcode) (1.2.0)\n",
            "Requirement already satisfied: python-dateutil>=2.1 in /usr/local/lib/python3.7/dist-packages (from jupyter-client>=6.1.1->jupyter-server~=1.2->jupyterlab==3.0.7->colabcode) (2.8.2)\n",
            "Requirement already satisfied: json5 in /usr/local/lib/python3.7/dist-packages (from jupyterlab-server~=2.0->jupyterlab==3.0.7->colabcode) (0.9.6)\n",
            "Requirement already satisfied: jsonschema>=3.0.1 in /usr/local/lib/python3.7/dist-packages (from jupyterlab-server~=2.0->jupyterlab==3.0.7->colabcode) (4.2.1)\n",
            "Requirement already satisfied: entrypoints>=0.2.2 in /usr/local/lib/python3.7/dist-packages (from jupyterlab-server~=2.0->jupyterlab==3.0.7->colabcode) (0.3)\n",
            "Requirement already satisfied: requests in /usr/local/lib/python3.7/dist-packages (from jupyterlab-server~=2.0->jupyterlab==3.0.7->colabcode) (2.23.0)\n",
            "Requirement already satisfied: babel in /usr/local/lib/python3.7/dist-packages (from jupyterlab-server~=2.0->jupyterlab==3.0.7->colabcode) (2.9.1)\n",
            "Requirement already satisfied: importlib-resources>=1.4.0 in /usr/local/lib/python3.7/dist-packages (from jsonschema>=3.0.1->jupyterlab-server~=2.0->jupyterlab==3.0.7->colabcode) (5.4.0)\n",
            "Requirement already satisfied: pyrsistent!=0.17.0,!=0.17.1,!=0.17.2,>=0.14.0 in /usr/local/lib/python3.7/dist-packages (from jsonschema>=3.0.1->jupyterlab-server~=2.0->jupyterlab==3.0.7->colabcode) (0.18.0)\n",
            "Requirement already satisfied: attrs>=17.4.0 in /usr/local/lib/python3.7/dist-packages (from jsonschema>=3.0.1->jupyterlab-server~=2.0->jupyterlab==3.0.7->colabcode) (21.2.0)\n",
            "Requirement already satisfied: importlib-metadata in /usr/local/lib/python3.7/dist-packages (from jsonschema>=3.0.1->jupyterlab-server~=2.0->jupyterlab==3.0.7->colabcode) (4.8.2)\n",
            "Requirement already satisfied: zipp>=3.1.0 in /usr/local/lib/python3.7/dist-packages (from importlib-resources>=1.4.0->jsonschema>=3.0.1->jupyterlab-server~=2.0->jupyterlab==3.0.7->colabcode) (3.6.0)\n",
            "Requirement already satisfied: notebook<7 in /usr/local/lib/python3.7/dist-packages (from nbclassic~=0.2->jupyterlab==3.0.7->colabcode) (5.3.1)\n",
            "Requirement already satisfied: ipykernel in /usr/local/lib/python3.7/dist-packages (from notebook<7->nbclassic~=0.2->jupyterlab==3.0.7->colabcode) (4.10.1)\n",
            "Requirement already satisfied: PyYAML in /usr/local/lib/python3.7/dist-packages (from pyngrok>=5.0.0->colabcode) (3.13)\n",
            "Requirement already satisfied: six>=1.5 in /usr/local/lib/python3.7/dist-packages (from python-dateutil>=2.1->jupyter-client>=6.1.1->jupyter-server~=1.2->jupyterlab==3.0.7->colabcode) (1.15.0)\n",
            "Requirement already satisfied: ptyprocess in /usr/local/lib/python3.7/dist-packages (from terminado>=0.8.3->jupyter-server~=1.2->jupyterlab==3.0.7->colabcode) (0.7.0)\n",
            "Requirement already satisfied: cffi>=1.0.0 in /usr/local/lib/python3.7/dist-packages (from argon2-cffi->jupyter-server~=1.2->jupyterlab==3.0.7->colabcode) (1.15.0)\n",
            "Requirement already satisfied: pycparser in /usr/local/lib/python3.7/dist-packages (from cffi>=1.0.0->argon2-cffi->jupyter-server~=1.2->jupyterlab==3.0.7->colabcode) (2.21)\n",
            "Requirement already satisfied: pytz>=2015.7 in /usr/local/lib/python3.7/dist-packages (from babel->jupyterlab-server~=2.0->jupyterlab==3.0.7->colabcode) (2018.9)\n",
            "Requirement already satisfied: pexpect in /usr/local/lib/python3.7/dist-packages (from ipython->jupyterlab==3.0.7->colabcode) (4.8.0)\n",
            "Requirement already satisfied: simplegeneric>0.8 in /usr/local/lib/python3.7/dist-packages (from ipython->jupyterlab==3.0.7->colabcode) (0.8.1)\n",
            "Requirement already satisfied: decorator in /usr/local/lib/python3.7/dist-packages (from ipython->jupyterlab==3.0.7->colabcode) (4.4.2)\n",
            "Requirement already satisfied: setuptools>=18.5 in /usr/local/lib/python3.7/dist-packages (from ipython->jupyterlab==3.0.7->colabcode) (57.4.0)\n",
            "Requirement already satisfied: pygments in /usr/local/lib/python3.7/dist-packages (from ipython->jupyterlab==3.0.7->colabcode) (2.6.1)\n",
            "Requirement already satisfied: prompt-toolkit<2.0.0,>=1.0.4 in /usr/local/lib/python3.7/dist-packages (from ipython->jupyterlab==3.0.7->colabcode) (1.0.18)\n",
            "Requirement already satisfied: pickleshare in /usr/local/lib/python3.7/dist-packages (from ipython->jupyterlab==3.0.7->colabcode) (0.7.5)\n",
            "Requirement already satisfied: wcwidth in /usr/local/lib/python3.7/dist-packages (from prompt-toolkit<2.0.0,>=1.0.4->ipython->jupyterlab==3.0.7->colabcode) (0.2.5)\n",
            "Requirement already satisfied: pandocfilters>=1.4.1 in /usr/local/lib/python3.7/dist-packages (from nbconvert->jupyter-server~=1.2->jupyterlab==3.0.7->colabcode) (1.5.0)\n",
            "Requirement already satisfied: defusedxml in /usr/local/lib/python3.7/dist-packages (from nbconvert->jupyter-server~=1.2->jupyterlab==3.0.7->colabcode) (0.7.1)\n",
            "Requirement already satisfied: bleach in /usr/local/lib/python3.7/dist-packages (from nbconvert->jupyter-server~=1.2->jupyterlab==3.0.7->colabcode) (4.1.0)\n",
            "Requirement already satisfied: testpath in /usr/local/lib/python3.7/dist-packages (from nbconvert->jupyter-server~=1.2->jupyterlab==3.0.7->colabcode) (0.5.0)\n",
            "Requirement already satisfied: mistune<2,>=0.8.1 in /usr/local/lib/python3.7/dist-packages (from nbconvert->jupyter-server~=1.2->jupyterlab==3.0.7->colabcode) (0.8.4)\n",
            "Requirement already satisfied: webencodings in /usr/local/lib/python3.7/dist-packages (from bleach->nbconvert->jupyter-server~=1.2->jupyterlab==3.0.7->colabcode) (0.5.1)\n",
            "Requirement already satisfied: pyparsing!=3.0.5,>=2.0.2 in /usr/local/lib/python3.7/dist-packages (from packaging->jupyterlab==3.0.7->colabcode) (3.0.6)\n",
            "Requirement already satisfied: urllib3!=1.25.0,!=1.25.1,<1.26,>=1.21.1 in /usr/local/lib/python3.7/dist-packages (from requests->jupyterlab-server~=2.0->jupyterlab==3.0.7->colabcode) (1.24.3)\n",
            "Requirement already satisfied: chardet<4,>=3.0.2 in /usr/local/lib/python3.7/dist-packages (from requests->jupyterlab-server~=2.0->jupyterlab==3.0.7->colabcode) (3.0.4)\n",
            "Requirement already satisfied: certifi>=2017.4.17 in /usr/local/lib/python3.7/dist-packages (from requests->jupyterlab-server~=2.0->jupyterlab==3.0.7->colabcode) (2021.10.8)\n"
          ]
        }
      ]
    },
    {
      "cell_type": "code",
      "metadata": {
        "colab": {
          "base_uri": "https://localhost:8080/"
        },
        "id": "9gWoWWMGXFUj",
        "outputId": "5ecc8c8a-f2c3-4050-9b9b-512e47e63e91"
      },
      "source": [
        "server.run_app(app = app)"
      ],
      "execution_count": null,
      "outputs": [
        {
          "output_type": "stream",
          "name": "stdout",
          "text": [
            ""
          ]
        },
        {
          "output_type": "stream",
          "name": "stderr",
          "text": [
            "INFO:     Started server process [259]\n",
            "INFO:     Waiting for application startup.\n",
            "INFO:     Application startup complete.\n",
            "INFO:     Uvicorn running on http://127.0.0.1:15000 (Press CTRL+C to quit)\n"
          ]
        },
        {
          "output_type": "stream",
          "name": "stdout",
          "text": [
            "Public URL: NgrokTunnel: \"https://ed07-34-74-185-160.ngrok.io\" -> \"http://localhost:15000\"\n",
            "INFO:     42.111.144.75:0 - \"GET / HTTP/1.1\" 200 OK\n",
            "INFO:     42.111.144.75:0 - \"GET /favicon.ico HTTP/1.1\" 404 Not Found\n",
            "INFO:     42.111.144.75:0 - \"GET /docs HTTP/1.1\" 200 OK\n",
            "INFO:     42.111.144.75:0 - \"GET /openapi.json HTTP/1.1\" 200 OK\n"
          ]
        },
        {
          "output_type": "stream",
          "name": "stderr",
          "text": [
            "INFO:     Shutting down\n",
            "INFO:     Waiting for application shutdown.\n",
            "INFO:     Application shutdown complete.\n",
            "INFO:     Finished server process [259]\n"
          ]
        }
      ]
    },
    {
      "cell_type": "code",
      "metadata": {
        "id": "38h_JCKdcwT6"
      },
      "source": [
        ""
      ],
      "execution_count": null,
      "outputs": []
    }
  ]
}